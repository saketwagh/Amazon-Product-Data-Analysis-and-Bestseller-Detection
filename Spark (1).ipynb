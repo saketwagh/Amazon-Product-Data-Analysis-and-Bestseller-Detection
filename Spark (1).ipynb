{
  "nbformat": 4,
  "nbformat_minor": 0,
  "metadata": {
    "colab": {
      "provenance": []
    },
    "kernelspec": {
      "name": "python3",
      "display_name": "Python 3"
    },
    "language_info": {
      "name": "python"
    }
  },
  "cells": [
    {
      "cell_type": "code",
      "execution_count": null,
      "metadata": {
        "colab": {
          "base_uri": "https://localhost:8080/"
        },
        "id": "7wxmL7xOtThO",
        "outputId": "5af05231-769e-4eef-da8b-ae734d96c04b"
      },
      "outputs": [
        {
          "output_type": "stream",
          "name": "stdout",
          "text": [
            "Collecting pyspark\n",
            "  Downloading pyspark-3.5.0.tar.gz (316.9 MB)\n",
            "\u001b[2K     \u001b[90m━━━━━━━━━━━━━━━━━━━━━━━━━━━━━━━━━━━━━━━━\u001b[0m \u001b[32m316.9/316.9 MB\u001b[0m \u001b[31m2.8 MB/s\u001b[0m eta \u001b[36m0:00:00\u001b[0m\n",
            "\u001b[?25h  Preparing metadata (setup.py) ... \u001b[?25l\u001b[?25hdone\n",
            "Requirement already satisfied: py4j in /usr/local/lib/python3.10/dist-packages (0.10.9.7)\n",
            "Building wheels for collected packages: pyspark\n",
            "  Building wheel for pyspark (setup.py) ... \u001b[?25l\u001b[?25hdone\n",
            "  Created wheel for pyspark: filename=pyspark-3.5.0-py2.py3-none-any.whl size=317425345 sha256=74f4bcf2ffeaf667213ee987ad20dbbe193849b4ec5768a0672f1159af66edba\n",
            "  Stored in directory: /root/.cache/pip/wheels/41/4e/10/c2cf2467f71c678cfc8a6b9ac9241e5e44a01940da8fbb17fc\n",
            "Successfully built pyspark\n",
            "Installing collected packages: pyspark\n",
            "Successfully installed pyspark-3.5.0\n"
          ]
        }
      ],
      "source": [
        "!pip install pyspark py4j"
      ]
    },
    {
      "cell_type": "code",
      "source": [
        "from pyspark.sql import SparkSession"
      ],
      "metadata": {
        "id": "-7XI9KeKt2Wj"
      },
      "execution_count": null,
      "outputs": []
    },
    {
      "cell_type": "code",
      "source": [
        "spark= SparkSession.builder.appName(\"PreProcess\").getOrCreate()"
      ],
      "metadata": {
        "id": "Q8TAPs39u9aG"
      },
      "execution_count": null,
      "outputs": []
    },
    {
      "cell_type": "code",
      "source": [
        "#load data into spark df\n",
        "df=spark.read.csv(\"/content/drive/MyDrive/Amazon/Amazon_Book.csv\")"
      ],
      "metadata": {
        "id": "EKCkk97xuGTc"
      },
      "execution_count": null,
      "outputs": []
    },
    {
      "cell_type": "code",
      "source": [
        "df.show()"
      ],
      "metadata": {
        "colab": {
          "base_uri": "https://localhost:8080/"
        },
        "id": "l2sV_3v6uqQ_",
        "outputId": "1380cee5-f887-44da-f155-854d32ee6d7d"
      },
      "execution_count": null,
      "outputs": [
        {
          "output_type": "stream",
          "name": "stdout",
          "text": [
            "+----+----------+--------------------+--------------------+--------------------+-----+-------+-----+------------+-----------------+--------------+\n",
            "| _c0|       _c1|                 _c2|                 _c3|                 _c4|  _c5|    _c6|  _c7|         _c8|              _c9|          _c10|\n",
            "+----+----------+--------------------+--------------------+--------------------+-----+-------+-----+------------+-----------------+--------------+\n",
            "|NULL|      asin|               title|              imgUrl|          productURL|stars|reviews|price|isBestSeller|boughtInLastMonth|  categoryName|\n",
            "|   0|B09B96TG33|Echo Dot (5th gen...|https://m.media-a...|https://www.amazo...|  4.7|  15308|21.99|       False|                0|Hi-Fi Speakers|\n",
            "|   1|B01HTH3C8S|Anker Soundcore m...|https://m.media-a...|https://www.amazo...|  4.7|  98099|23.99|        True|                0|Hi-Fi Speakers|\n",
            "|   2|B09B8YWXDF|Echo Dot (5th gen...|https://m.media-a...|https://www.amazo...|  4.7|  15308|21.99|       False|                0|Hi-Fi Speakers|\n",
            "|   3|B09B8T5VGV|Echo Dot with clo...|https://m.media-a...|https://www.amazo...|  4.7|   7205|31.99|       False|                0|Hi-Fi Speakers|\n",
            "|   4|B09WX6QD65|Introducing Echo ...|https://m.media-a...|https://www.amazo...|  4.6|   1881|17.99|       False|                0|Hi-Fi Speakers|\n",
            "|   5|B09B97WSLF|Echo Dot with clo...|https://m.media-a...|https://www.amazo...|  4.7|   7205|31.99|       False|                0|Hi-Fi Speakers|\n",
            "|   6|B09B9615X2|Echo Dot (5th gen...|https://m.media-a...|https://www.amazo...|  4.7|  15308| NULL|       False|                0|Hi-Fi Speakers|\n",
            "|   7|B01MTB55WH|Anker Soundcore 2...|https://m.media-a...|https://www.amazo...|  4.7| 103673|39.99|       False|                0|Hi-Fi Speakers|\n",
            "|   8|B016MO90GW|Bluetooth Speaker...|https://m.media-a...|https://www.amazo...|  4.7|  29909|29.99|       False|                0|Hi-Fi Speakers|\n",
            "|   9|B09ZQF5GZW|RIENOK Bluetooth ...|https://m.media-a...|https://www.amazo...| NULL|  16014|29.99|       False|                0|Hi-Fi Speakers|\n",
            "|  10|B08VDNCZT9|JBL Charge 5 - Po...|https://m.media-a...|https://www.amazo...|  4.8|  11920|139.0|       False|                0|Hi-Fi Speakers|\n",
            "|  11|B09ZX9NP2W|Introducing Echo ...|https://m.media-a...|https://www.amazo...|  4.6|   1881|17.99|       False|                0|Hi-Fi Speakers|\n",
            "|  12|B09ZXDMNCY|Introducing Echo ...|https://m.media-a...|https://www.amazo...|  4.6|   1881|17.99|       False|                0|Hi-Fi Speakers|\n",
            "|  13|B09B2R18PG|All-new Echo Show...|https://m.media-a...|https://www.amazo...|  4.5|    726|49.99|       False|                0|Hi-Fi Speakers|\n",
            "|  14|B084TNK1NL|Echo Show 8 | 2nd...|https://m.media-a...|https://www.amazo...|  4.7|  18333|64.99|       False|                0|Hi-Fi Speakers|\n",
            "|  15|B09B97BPSW|Echo Dot Kids (5t...|https://m.media-a...|https://www.amazo...|  4.6|   1017|26.99|        True|                0|Hi-Fi Speakers|\n",
            "|  16|B08YF1T4SW|Sony SRS-XB13 - C...|https://m.media-a...|https://www.amazo...|  4.6|   6367| 39.0|       False|                0|Hi-Fi Speakers|\n",
            "|  17|B09B8XRZYB|Echo Dot Kids (5t...|https://m.media-a...|https://www.amazo...|  4.6|   1017|26.99|        True|                0|Hi-Fi Speakers|\n",
            "|  18|B09B2SS2G1|All-new Echo Show...|https://m.media-a...|https://www.amazo...|  4.5|    726| NULL|       False|                0|Hi-Fi Speakers|\n",
            "+----+----------+--------------------+--------------------+--------------------+-----+-------+-----+------------+-----------------+--------------+\n",
            "only showing top 20 rows\n",
            "\n"
          ]
        }
      ]
    },
    {
      "cell_type": "code",
      "source": [
        "df=spark.read.option('header','true').csv(\"/content/drive/MyDrive/Amazon/Amazon_Book.csv\")"
      ],
      "metadata": {
        "id": "0tT34lBEvOuJ"
      },
      "execution_count": null,
      "outputs": []
    },
    {
      "cell_type": "code",
      "source": [
        "df.show()"
      ],
      "metadata": {
        "colab": {
          "base_uri": "https://localhost:8080/"
        },
        "id": "zRWtdPYhvsWV",
        "outputId": "be847602-7567-48b6-8100-34f1f22ab071"
      },
      "execution_count": null,
      "outputs": [
        {
          "output_type": "stream",
          "name": "stdout",
          "text": [
            "+---+----------+--------------------+--------------------+--------------------+-----+-------+-----+------------+-----------------+--------------+\n",
            "|_c0|      asin|               title|              imgUrl|          productURL|stars|reviews|price|isBestSeller|boughtInLastMonth|  categoryName|\n",
            "+---+----------+--------------------+--------------------+--------------------+-----+-------+-----+------------+-----------------+--------------+\n",
            "|  0|B09B96TG33|Echo Dot (5th gen...|https://m.media-a...|https://www.amazo...|  4.7|  15308|21.99|       False|                0|Hi-Fi Speakers|\n",
            "|  1|B01HTH3C8S|Anker Soundcore m...|https://m.media-a...|https://www.amazo...|  4.7|  98099|23.99|        True|                0|Hi-Fi Speakers|\n",
            "|  2|B09B8YWXDF|Echo Dot (5th gen...|https://m.media-a...|https://www.amazo...|  4.7|  15308|21.99|       False|                0|Hi-Fi Speakers|\n",
            "|  3|B09B8T5VGV|Echo Dot with clo...|https://m.media-a...|https://www.amazo...|  4.7|   7205|31.99|       False|                0|Hi-Fi Speakers|\n",
            "|  4|B09WX6QD65|Introducing Echo ...|https://m.media-a...|https://www.amazo...|  4.6|   1881|17.99|       False|                0|Hi-Fi Speakers|\n",
            "|  5|B09B97WSLF|Echo Dot with clo...|https://m.media-a...|https://www.amazo...|  4.7|   7205|31.99|       False|                0|Hi-Fi Speakers|\n",
            "|  6|B09B9615X2|Echo Dot (5th gen...|https://m.media-a...|https://www.amazo...|  4.7|  15308| NULL|       False|                0|Hi-Fi Speakers|\n",
            "|  7|B01MTB55WH|Anker Soundcore 2...|https://m.media-a...|https://www.amazo...|  4.7| 103673|39.99|       False|                0|Hi-Fi Speakers|\n",
            "|  8|B016MO90GW|Bluetooth Speaker...|https://m.media-a...|https://www.amazo...|  4.7|  29909|29.99|       False|                0|Hi-Fi Speakers|\n",
            "|  9|B09ZQF5GZW|RIENOK Bluetooth ...|https://m.media-a...|https://www.amazo...| NULL|  16014|29.99|       False|                0|Hi-Fi Speakers|\n",
            "| 10|B08VDNCZT9|JBL Charge 5 - Po...|https://m.media-a...|https://www.amazo...|  4.8|  11920|139.0|       False|                0|Hi-Fi Speakers|\n",
            "| 11|B09ZX9NP2W|Introducing Echo ...|https://m.media-a...|https://www.amazo...|  4.6|   1881|17.99|       False|                0|Hi-Fi Speakers|\n",
            "| 12|B09ZXDMNCY|Introducing Echo ...|https://m.media-a...|https://www.amazo...|  4.6|   1881|17.99|       False|                0|Hi-Fi Speakers|\n",
            "| 13|B09B2R18PG|All-new Echo Show...|https://m.media-a...|https://www.amazo...|  4.5|    726|49.99|       False|                0|Hi-Fi Speakers|\n",
            "| 14|B084TNK1NL|Echo Show 8 | 2nd...|https://m.media-a...|https://www.amazo...|  4.7|  18333|64.99|       False|                0|Hi-Fi Speakers|\n",
            "| 15|B09B97BPSW|Echo Dot Kids (5t...|https://m.media-a...|https://www.amazo...|  4.6|   1017|26.99|        True|                0|Hi-Fi Speakers|\n",
            "| 16|B08YF1T4SW|Sony SRS-XB13 - C...|https://m.media-a...|https://www.amazo...|  4.6|   6367| 39.0|       False|                0|Hi-Fi Speakers|\n",
            "| 17|B09B8XRZYB|Echo Dot Kids (5t...|https://m.media-a...|https://www.amazo...|  4.6|   1017|26.99|        True|                0|Hi-Fi Speakers|\n",
            "| 18|B09B2SS2G1|All-new Echo Show...|https://m.media-a...|https://www.amazo...|  4.5|    726| NULL|       False|                0|Hi-Fi Speakers|\n",
            "| 19|B07NQCKJSH|Echo Studio | Our...|https://m.media-a...|https://www.amazo...|  4.5|  14222| NULL|       False|                0|Hi-Fi Speakers|\n",
            "+---+----------+--------------------+--------------------+--------------------+-----+-------+-----+------------+-----------------+--------------+\n",
            "only showing top 20 rows\n",
            "\n"
          ]
        }
      ]
    },
    {
      "cell_type": "code",
      "source": [
        "type(df)"
      ],
      "metadata": {
        "colab": {
          "base_uri": "https://localhost:8080/"
        },
        "id": "Tn3O68Pnv4Ps",
        "outputId": "9c9f2e64-4c0a-420d-f62f-a53b34f3df91"
      },
      "execution_count": null,
      "outputs": [
        {
          "output_type": "execute_result",
          "data": {
            "text/plain": [
              "pyspark.sql.dataframe.DataFrame"
            ]
          },
          "metadata": {},
          "execution_count": 8
        }
      ]
    },
    {
      "cell_type": "code",
      "source": [
        "df.printSchema() #Schema of dataframe"
      ],
      "metadata": {
        "colab": {
          "base_uri": "https://localhost:8080/"
        },
        "id": "uuXubINvv6Rg",
        "outputId": "43d0e7d4-aee0-45c6-ea71-0b33fc00b150"
      },
      "execution_count": null,
      "outputs": [
        {
          "output_type": "stream",
          "name": "stdout",
          "text": [
            "root\n",
            " |-- _c0: string (nullable = true)\n",
            " |-- asin: string (nullable = true)\n",
            " |-- title: string (nullable = true)\n",
            " |-- imgUrl: string (nullable = true)\n",
            " |-- productURL: string (nullable = true)\n",
            " |-- stars: string (nullable = true)\n",
            " |-- reviews: string (nullable = true)\n",
            " |-- price: string (nullable = true)\n",
            " |-- isBestSeller: string (nullable = true)\n",
            " |-- boughtInLastMonth: string (nullable = true)\n",
            " |-- categoryName: string (nullable = true)\n",
            "\n"
          ]
        }
      ]
    },
    {
      "cell_type": "code",
      "source": [
        "df.drop(\"_c0\").printSchema()"
      ],
      "metadata": {
        "id": "59_0kJr0wChV",
        "colab": {
          "base_uri": "https://localhost:8080/"
        },
        "outputId": "b82a19c9-7e9a-4bcb-a9c7-409c89bcae68"
      },
      "execution_count": null,
      "outputs": [
        {
          "output_type": "stream",
          "name": "stdout",
          "text": [
            "root\n",
            " |-- asin: string (nullable = true)\n",
            " |-- title: string (nullable = true)\n",
            " |-- imgUrl: string (nullable = true)\n",
            " |-- productURL: string (nullable = true)\n",
            " |-- stars: string (nullable = true)\n",
            " |-- reviews: string (nullable = true)\n",
            " |-- price: string (nullable = true)\n",
            " |-- isBestSeller: string (nullable = true)\n",
            " |-- boughtInLastMonth: string (nullable = true)\n",
            " |-- categoryName: string (nullable = true)\n",
            "\n"
          ]
        }
      ]
    },
    {
      "cell_type": "code",
      "source": [
        "df.head()#to get first row along with title of the column"
      ],
      "metadata": {
        "colab": {
          "base_uri": "https://localhost:8080/"
        },
        "id": "jaF-1hBkxItv",
        "outputId": "da5766fb-4155-49c2-92e2-6ff31a3a3aee"
      },
      "execution_count": null,
      "outputs": [
        {
          "output_type": "execute_result",
          "data": {
            "text/plain": [
              "Row(_c0='0', asin='B09B96TG33', title='Echo Dot (5th generation, 2022 release) | Big vibrant sound Wi-Fi and Bluetooth smart speaker with Alexa | Charcoal', imgUrl='https://m.media-amazon.com/images/I/71C3lbbeLsL._AC_UL320_.jpg', productURL='https://www.amazon.co.uk/dp/B09B96TG33', stars='4.7', reviews='15308', price='21.99', isBestSeller='False', boughtInLastMonth='0', categoryName='Hi-Fi Speakers')"
            ]
          },
          "metadata": {},
          "execution_count": 11
        }
      ]
    },
    {
      "cell_type": "code",
      "source": [
        "df.select('isBestSeller','reviews').show() # To fetch required columns"
      ],
      "metadata": {
        "colab": {
          "base_uri": "https://localhost:8080/"
        },
        "id": "zwLwfQTxxTok",
        "outputId": "46d5f1ee-da09-4e69-c14e-a3388d28dcdf"
      },
      "execution_count": null,
      "outputs": [
        {
          "output_type": "stream",
          "name": "stdout",
          "text": [
            "+------------+-------+\n",
            "|isBestSeller|reviews|\n",
            "+------------+-------+\n",
            "|       False|  15308|\n",
            "|        True|  98099|\n",
            "|       False|  15308|\n",
            "|       False|   7205|\n",
            "|       False|   1881|\n",
            "|       False|   7205|\n",
            "|       False|  15308|\n",
            "|       False| 103673|\n",
            "|       False|  29909|\n",
            "|       False|  16014|\n",
            "|       False|  11920|\n",
            "|       False|   1881|\n",
            "|       False|   1881|\n",
            "|       False|    726|\n",
            "|       False|  18333|\n",
            "|        True|   1017|\n",
            "|       False|   6367|\n",
            "|        True|   1017|\n",
            "|       False|    726|\n",
            "|       False|  14222|\n",
            "+------------+-------+\n",
            "only showing top 20 rows\n",
            "\n"
          ]
        }
      ]
    },
    {
      "cell_type": "code",
      "source": [
        "df.describe().show()"
      ],
      "metadata": {
        "colab": {
          "base_uri": "https://localhost:8080/"
        },
        "id": "-iKTzCE_x-9V",
        "outputId": "86f3922b-9942-4bc9-e1a8-9ecd994030a5"
      },
      "execution_count": null,
      "outputs": [
        {
          "output_type": "stream",
          "name": "stdout",
          "text": [
            "+-------+-----------------+--------------------+--------------------+--------------------+--------------------+--------------------+--------------------+------------------+--------------------+--------------------+--------------------+\n",
            "|summary|              _c0|                asin|               title|              imgUrl|          productURL|               stars|             reviews|             price|        isBestSeller|   boughtInLastMonth|        categoryName|\n",
            "+-------+-----------------+--------------------+--------------------+--------------------+--------------------+--------------------+--------------------+------------------+--------------------+--------------------+--------------------+\n",
            "|  count|          2222742|             2222742|             2222742|             2222730|             2222722|             2004989|             2221667|           1895568|             2220894|             2221919|             2222200|\n",
            "|   mean|        1111370.5| 2.904949620896923E9|6.358164371280714E11|  1768211.8970588236|            327.5125|    2.03631628076772|    380.293668613133|110.01927463289486|   234.3422854084404|  19.682615597963714|   91.62401009761012|\n",
            "| stddev|641650.4903570947|2.7157202476316257E9|2.136080624605202...|   7173001.350885065|   686.6718274093472|   4.210037383643229|  5028.5187411482175|21866.091675421867|  1218.9239560764338|   239.4568576187288|   746.9179095534445|\n",
            "|    min|                0|          0000060259| 6 Pack of 225ml ...|                    | \"\"Bruno Fernande...| & 25\"\") + Ball O...|             #7 Iron|        & E-Guide\"| 0.3 litres\"\" CD ...| (Silver) Windows...|           (Silver)\"|\n",
            "|    max|           999999|          B0CL2RGL8C|🥧 RLS 11pcs Wood...|young people fiel...|   with Water Bottle|  with Sleep Monitor|variable speed (s...|  with Stabilisers|         repair Kit\"|                red\"|https://www.amazo...|\n",
            "+-------+-----------------+--------------------+--------------------+--------------------+--------------------+--------------------+--------------------+------------------+--------------------+--------------------+--------------------+\n",
            "\n"
          ]
        }
      ]
    },
    {
      "cell_type": "code",
      "source": [
        "from pyspark.sql.functions import col\n",
        "\n",
        "# Count the number of duplicate rows in the Spark DataFrame\n",
        "duplicates_count = df.groupBy(df.columns).count().filter(col('count') > 1).count()\n",
        "\n",
        "# Print the number of duplicate rows\n",
        "print(\"Number of duplicate rows:\", duplicates_count)"
      ],
      "metadata": {
        "colab": {
          "base_uri": "https://localhost:8080/"
        },
        "id": "Bqkni8VNy_iA",
        "outputId": "6baeae56-5c37-45bb-a97b-1a2bcf708c5c"
      },
      "execution_count": null,
      "outputs": [
        {
          "output_type": "stream",
          "name": "stdout",
          "text": [
            "Number of duplicate rows: 0\n"
          ]
        }
      ]
    },
    {
      "cell_type": "code",
      "source": [
        "\n",
        "# Select specific columns\n",
        "selected_cols = ['stars', 'reviews', 'price', 'isBestSeller', 'boughtInLastMonth', 'categoryName', 'title']\n",
        "df_selected = df.select(*selected_cols)\n",
        "\n",
        "# Count the number of rows and columns in the Spark DataFrame\n",
        "num_rows = df_selected.count()\n",
        "num_cols = len(df_selected.columns)"
      ],
      "metadata": {
        "id": "eWFMaOjp6TiQ"
      },
      "execution_count": null,
      "outputs": []
    },
    {
      "cell_type": "code",
      "source": [
        "print(num_rows)\n",
        "print(num_cols)"
      ],
      "metadata": {
        "colab": {
          "base_uri": "https://localhost:8080/"
        },
        "id": "NDizulwc8Jw_",
        "outputId": "18d1265c-3f52-4be4-87b8-42d0cb3f66f6"
      },
      "execution_count": null,
      "outputs": [
        {
          "output_type": "stream",
          "name": "stdout",
          "text": [
            "2222742\n",
            "7\n"
          ]
        }
      ]
    },
    {
      "cell_type": "code",
      "source": [
        "df.dtypes"
      ],
      "metadata": {
        "colab": {
          "base_uri": "https://localhost:8080/"
        },
        "id": "3bKrr9ydG_Gg",
        "outputId": "b244c23f-d29d-4a4d-962c-3c964afad18f"
      },
      "execution_count": null,
      "outputs": [
        {
          "output_type": "execute_result",
          "data": {
            "text/plain": [
              "[('_c0', 'string'),\n",
              " ('asin', 'string'),\n",
              " ('title', 'string'),\n",
              " ('imgUrl', 'string'),\n",
              " ('productURL', 'string'),\n",
              " ('stars', 'string'),\n",
              " ('reviews', 'string'),\n",
              " ('price', 'string'),\n",
              " ('isBestSeller', 'string'),\n",
              " ('boughtInLastMonth', 'string'),\n",
              " ('categoryName', 'string')]"
            ]
          },
          "metadata": {},
          "execution_count": 17
        }
      ]
    },
    {
      "cell_type": "code",
      "source": [
        "from pyspark.sql.functions import col, sum as spark_sum\n",
        "\n",
        "# Assuming spark is your SparkSession and df is your Spark DataFrame\n",
        "\n",
        "# Count null values in each column\n",
        "null_counts = df.select([spark_sum(col(c).isNull().cast('int')).alias(c) for c in df.columns])\n",
        "\n",
        "null_counts.show()"
      ],
      "metadata": {
        "colab": {
          "base_uri": "https://localhost:8080/"
        },
        "id": "AbZYO9En8OIp",
        "outputId": "2b46ee55-dd80-4536-b70b-a5d5ab1bfd3d"
      },
      "execution_count": null,
      "outputs": [
        {
          "output_type": "stream",
          "name": "stdout",
          "text": [
            "+---+----+-----+------+----------+------+-------+------+------------+-----------------+------------+\n",
            "|_c0|asin|title|imgUrl|productURL| stars|reviews| price|isBestSeller|boughtInLastMonth|categoryName|\n",
            "+---+----+-----+------+----------+------+-------+------+------------+-----------------+------------+\n",
            "|  0|   0|    0|    12|        20|217753|   1075|327174|        1848|              823|         542|\n",
            "+---+----+-----+------+----------+------+-------+------+------------+-----------------+------------+\n",
            "\n"
          ]
        }
      ]
    },
    {
      "cell_type": "code",
      "source": [
        "from pyspark.sql.functions import col, median\n",
        "from pyspark.sql.functions import col,mode\n",
        "from pyspark.sql.functions import col,mean\n",
        "from pyspark.sql.functions import when\n",
        "\n",
        "# Calculate the median value of the 'stars' column\n",
        "stars_median = df.select(median(col('stars'))).collect()[0][0]\n",
        "price_median = df.select(median(col('price'))).collect()[0][0]\n",
        "isBestseller_mode = df.select(mode(col('isBestSeller'))).collect()[0][0]\n",
        "reviews_mode = df.select(mode(col('reviews'))).collect()[0][0]\n",
        "bought_mode = df.select(mode(col('boughtInLastMonth'))).collect()[0][0]\n",
        "category_mode = df.select(mode(col('categoryName'))).collect()[0][0]\n",
        "# Fill null values\n",
        "df = df.withColumn('stars', when(col('stars').isNull(), stars_median).otherwise(col('stars')))\n",
        "df= df.withColumn('price', when(col('price').isNull(), price_median).otherwise(col('price')))\n",
        "df= df.withColumn('isBestSeller', when(col('isBestSeller').isNull(), isBestseller_mode).otherwise(col('isBestSeller')))\n",
        "df= df.withColumn('reviews', when(col('reviews').isNull(),reviews_mode).otherwise(col('reviews')))\n",
        "df = df.withColumn('boughtInLastMonth', when(col('boughtInLastMonth').isNull(), bought_mode).otherwise(col('boughtInLastMonth')))\n",
        "df= df.withColumn('categoryName', when(col('categoryName').isNull(),reviews_mode).otherwise(col('categoryName')))"
      ],
      "metadata": {
        "id": "8kBmYJIYD6Hj"
      },
      "execution_count": null,
      "outputs": []
    },
    {
      "cell_type": "code",
      "source": [
        "null_counts = df.select([spark_sum(col(c).isNull().cast('int')).alias(c) for c in df.columns])\n",
        "\n",
        "null_counts.show()"
      ],
      "metadata": {
        "colab": {
          "base_uri": "https://localhost:8080/"
        },
        "id": "Lh1kQNleFiFa",
        "outputId": "2ba3a17a-2302-4093-9697-342bc7b3b8e8"
      },
      "execution_count": null,
      "outputs": [
        {
          "output_type": "stream",
          "name": "stdout",
          "text": [
            "+---+----+-----+------+----------+-----+-------+-----+------------+-----------------+------------+\n",
            "|_c0|asin|title|imgUrl|productURL|stars|reviews|price|isBestSeller|boughtInLastMonth|categoryName|\n",
            "+---+----+-----+------+----------+-----+-------+-----+------------+-----------------+------------+\n",
            "|  0|   0|    0|    12|        20|    0|      0|    0|           0|                0|           0|\n",
            "+---+----+-----+------+----------+-----+-------+-----+------------+-----------------+------------+\n",
            "\n"
          ]
        }
      ]
    },
    {
      "cell_type": "code",
      "source": [
        "df.show()"
      ],
      "metadata": {
        "colab": {
          "base_uri": "https://localhost:8080/"
        },
        "id": "b24oXT2ZG5zj",
        "outputId": "6e665f87-5139-4d46-f641-73d97ee96bde"
      },
      "execution_count": null,
      "outputs": [
        {
          "output_type": "stream",
          "name": "stdout",
          "text": [
            "+---+----------+--------------------+--------------------+--------------------+-----+-------+-----+------------+-----------------+--------------+\n",
            "|_c0|      asin|               title|              imgUrl|          productURL|stars|reviews|price|isBestSeller|boughtInLastMonth|  categoryName|\n",
            "+---+----------+--------------------+--------------------+--------------------+-----+-------+-----+------------+-----------------+--------------+\n",
            "|  0|B09B96TG33|Echo Dot (5th gen...|https://m.media-a...|https://www.amazo...|  4.7|  15308|21.99|       False|                0|Hi-Fi Speakers|\n",
            "|  1|B01HTH3C8S|Anker Soundcore m...|https://m.media-a...|https://www.amazo...|  4.7|  98099|23.99|        True|                0|Hi-Fi Speakers|\n",
            "|  2|B09B8YWXDF|Echo Dot (5th gen...|https://m.media-a...|https://www.amazo...|  4.7|  15308|21.99|       False|                0|Hi-Fi Speakers|\n",
            "|  3|B09B8T5VGV|Echo Dot with clo...|https://m.media-a...|https://www.amazo...|  4.7|   7205|31.99|       False|                0|Hi-Fi Speakers|\n",
            "|  4|B09WX6QD65|Introducing Echo ...|https://m.media-a...|https://www.amazo...|  4.6|   1881|17.99|       False|                0|Hi-Fi Speakers|\n",
            "|  5|B09B97WSLF|Echo Dot with clo...|https://m.media-a...|https://www.amazo...|  4.7|   7205|31.99|       False|                0|Hi-Fi Speakers|\n",
            "|  6|B09B9615X2|Echo Dot (5th gen...|https://m.media-a...|https://www.amazo...|  4.7|  15308|19.66|       False|                0|Hi-Fi Speakers|\n",
            "|  7|B01MTB55WH|Anker Soundcore 2...|https://m.media-a...|https://www.amazo...|  4.7| 103673|39.99|       False|                0|Hi-Fi Speakers|\n",
            "|  8|B016MO90GW|Bluetooth Speaker...|https://m.media-a...|https://www.amazo...|  4.7|  29909|29.99|       False|                0|Hi-Fi Speakers|\n",
            "|  9|B09ZQF5GZW|RIENOK Bluetooth ...|https://m.media-a...|https://www.amazo...|  0.0|  16014|29.99|       False|                0|Hi-Fi Speakers|\n",
            "| 10|B08VDNCZT9|JBL Charge 5 - Po...|https://m.media-a...|https://www.amazo...|  4.8|  11920|139.0|       False|                0|Hi-Fi Speakers|\n",
            "| 11|B09ZX9NP2W|Introducing Echo ...|https://m.media-a...|https://www.amazo...|  4.6|   1881|17.99|       False|                0|Hi-Fi Speakers|\n",
            "| 12|B09ZXDMNCY|Introducing Echo ...|https://m.media-a...|https://www.amazo...|  4.6|   1881|17.99|       False|                0|Hi-Fi Speakers|\n",
            "| 13|B09B2R18PG|All-new Echo Show...|https://m.media-a...|https://www.amazo...|  4.5|    726|49.99|       False|                0|Hi-Fi Speakers|\n",
            "| 14|B084TNK1NL|Echo Show 8 | 2nd...|https://m.media-a...|https://www.amazo...|  4.7|  18333|64.99|       False|                0|Hi-Fi Speakers|\n",
            "| 15|B09B97BPSW|Echo Dot Kids (5t...|https://m.media-a...|https://www.amazo...|  4.6|   1017|26.99|        True|                0|Hi-Fi Speakers|\n",
            "| 16|B08YF1T4SW|Sony SRS-XB13 - C...|https://m.media-a...|https://www.amazo...|  4.6|   6367| 39.0|       False|                0|Hi-Fi Speakers|\n",
            "| 17|B09B8XRZYB|Echo Dot Kids (5t...|https://m.media-a...|https://www.amazo...|  4.6|   1017|26.99|        True|                0|Hi-Fi Speakers|\n",
            "| 18|B09B2SS2G1|All-new Echo Show...|https://m.media-a...|https://www.amazo...|  4.5|    726|19.66|       False|                0|Hi-Fi Speakers|\n",
            "| 19|B07NQCKJSH|Echo Studio | Our...|https://m.media-a...|https://www.amazo...|  4.5|  14222|19.66|       False|                0|Hi-Fi Speakers|\n",
            "+---+----------+--------------------+--------------------+--------------------+-----+-------+-----+------------+-----------------+--------------+\n",
            "only showing top 20 rows\n",
            "\n"
          ]
        }
      ]
    },
    {
      "cell_type": "markdown",
      "source": [
        "Model Building"
      ],
      "metadata": {
        "id": "AZiS8kfRzCxZ"
      }
    },
    {
      "cell_type": "code",
      "source": [
        "from pyspark.sql.functions import col, lit"
      ],
      "metadata": {
        "id": "Oq5XbuCyMBqY"
      },
      "execution_count": null,
      "outputs": []
    },
    {
      "cell_type": "code",
      "source": [
        "df.show()"
      ],
      "metadata": {
        "colab": {
          "base_uri": "https://localhost:8080/"
        },
        "id": "FG9VvHkw4-48",
        "outputId": "d45a2da5-1dd7-46ca-cc19-e74157884168"
      },
      "execution_count": null,
      "outputs": [
        {
          "output_type": "stream",
          "name": "stdout",
          "text": [
            "+---+----------+--------------------+--------------------+--------------------+-----+-------+-----+------------+-----------------+--------------+\n",
            "|_c0|      asin|               title|              imgUrl|          productURL|stars|reviews|price|isBestSeller|boughtInLastMonth|  categoryName|\n",
            "+---+----------+--------------------+--------------------+--------------------+-----+-------+-----+------------+-----------------+--------------+\n",
            "|  0|B09B96TG33|Echo Dot (5th gen...|https://m.media-a...|https://www.amazo...|  4.7|  15308|21.99|       False|                0|Hi-Fi Speakers|\n",
            "|  1|B01HTH3C8S|Anker Soundcore m...|https://m.media-a...|https://www.amazo...|  4.7|  98099|23.99|        True|                0|Hi-Fi Speakers|\n",
            "|  2|B09B8YWXDF|Echo Dot (5th gen...|https://m.media-a...|https://www.amazo...|  4.7|  15308|21.99|       False|                0|Hi-Fi Speakers|\n",
            "|  3|B09B8T5VGV|Echo Dot with clo...|https://m.media-a...|https://www.amazo...|  4.7|   7205|31.99|       False|                0|Hi-Fi Speakers|\n",
            "|  4|B09WX6QD65|Introducing Echo ...|https://m.media-a...|https://www.amazo...|  4.6|   1881|17.99|       False|                0|Hi-Fi Speakers|\n",
            "|  5|B09B97WSLF|Echo Dot with clo...|https://m.media-a...|https://www.amazo...|  4.7|   7205|31.99|       False|                0|Hi-Fi Speakers|\n",
            "|  6|B09B9615X2|Echo Dot (5th gen...|https://m.media-a...|https://www.amazo...|  4.7|  15308|19.66|       False|                0|Hi-Fi Speakers|\n",
            "|  7|B01MTB55WH|Anker Soundcore 2...|https://m.media-a...|https://www.amazo...|  4.7| 103673|39.99|       False|                0|Hi-Fi Speakers|\n",
            "|  8|B016MO90GW|Bluetooth Speaker...|https://m.media-a...|https://www.amazo...|  4.7|  29909|29.99|       False|                0|Hi-Fi Speakers|\n",
            "|  9|B09ZQF5GZW|RIENOK Bluetooth ...|https://m.media-a...|https://www.amazo...|  0.0|  16014|29.99|       False|                0|Hi-Fi Speakers|\n",
            "| 10|B08VDNCZT9|JBL Charge 5 - Po...|https://m.media-a...|https://www.amazo...|  4.8|  11920|139.0|       False|                0|Hi-Fi Speakers|\n",
            "| 11|B09ZX9NP2W|Introducing Echo ...|https://m.media-a...|https://www.amazo...|  4.6|   1881|17.99|       False|                0|Hi-Fi Speakers|\n",
            "| 12|B09ZXDMNCY|Introducing Echo ...|https://m.media-a...|https://www.amazo...|  4.6|   1881|17.99|       False|                0|Hi-Fi Speakers|\n",
            "| 13|B09B2R18PG|All-new Echo Show...|https://m.media-a...|https://www.amazo...|  4.5|    726|49.99|       False|                0|Hi-Fi Speakers|\n",
            "| 14|B084TNK1NL|Echo Show 8 | 2nd...|https://m.media-a...|https://www.amazo...|  4.7|  18333|64.99|       False|                0|Hi-Fi Speakers|\n",
            "| 15|B09B97BPSW|Echo Dot Kids (5t...|https://m.media-a...|https://www.amazo...|  4.6|   1017|26.99|        True|                0|Hi-Fi Speakers|\n",
            "| 16|B08YF1T4SW|Sony SRS-XB13 - C...|https://m.media-a...|https://www.amazo...|  4.6|   6367| 39.0|       False|                0|Hi-Fi Speakers|\n",
            "| 17|B09B8XRZYB|Echo Dot Kids (5t...|https://m.media-a...|https://www.amazo...|  4.6|   1017|26.99|        True|                0|Hi-Fi Speakers|\n",
            "| 18|B09B2SS2G1|All-new Echo Show...|https://m.media-a...|https://www.amazo...|  4.5|    726|19.66|       False|                0|Hi-Fi Speakers|\n",
            "| 19|B07NQCKJSH|Echo Studio | Our...|https://m.media-a...|https://www.amazo...|  4.5|  14222|19.66|       False|                0|Hi-Fi Speakers|\n",
            "+---+----------+--------------------+--------------------+--------------------+-----+-------+-----+------------+-----------------+--------------+\n",
            "only showing top 20 rows\n",
            "\n"
          ]
        }
      ]
    },
    {
      "cell_type": "markdown",
      "source": [
        "**Model Creation**"
      ],
      "metadata": {
        "id": "QdH1sn8DOk84"
      }
    },
    {
      "cell_type": "code",
      "source": [
        "features = [\"boughtInLastMonth\", \"reviews\", \"stars\", \"price\"]"
      ],
      "metadata": {
        "id": "O6UhDKI48RVH"
      },
      "execution_count": null,
      "outputs": []
    },
    {
      "cell_type": "code",
      "source": [
        "x = df.select(features)\n",
        "y = df.select('isBestSeller')"
      ],
      "metadata": {
        "id": "idS2AMQIQN6l"
      },
      "execution_count": null,
      "outputs": []
    },
    {
      "cell_type": "code",
      "source": [
        "df.dtypes"
      ],
      "metadata": {
        "colab": {
          "base_uri": "https://localhost:8080/"
        },
        "id": "QO8NF3lhT3O9",
        "outputId": "0c3b4cbe-2a68-4716-f8eb-2c00a3c31077"
      },
      "execution_count": null,
      "outputs": [
        {
          "output_type": "execute_result",
          "data": {
            "text/plain": [
              "[('_c0', 'string'),\n",
              " ('asin', 'string'),\n",
              " ('title', 'string'),\n",
              " ('imgUrl', 'string'),\n",
              " ('productURL', 'string'),\n",
              " ('stars', 'string'),\n",
              " ('reviews', 'string'),\n",
              " ('price', 'string'),\n",
              " ('isBestSeller', 'string'),\n",
              " ('boughtInLastMonth', 'string'),\n",
              " ('categoryName', 'string')]"
            ]
          },
          "metadata": {},
          "execution_count": 26
        }
      ]
    },
    {
      "cell_type": "code",
      "source": [
        "from pyspark.sql.functions import col\n",
        "\n",
        "# Assuming df is your Spark DataFrame\n",
        "df = df.withColumn(\"boughtInLastMonth\", col(\"boughtInLastMonth\").cast(\"float\"))\n",
        "df = df.withColumn(\"reviews\", col(\"reviews\").cast(\"int\"))\n",
        "df = df.withColumn(\"stars\", col(\"stars\").cast(\"float\"))\n",
        "df = df.withColumn(\"price\", col(\"price\").cast(\"float\"))\n"
      ],
      "metadata": {
        "id": "IXUeGAfIWMLp"
      },
      "execution_count": null,
      "outputs": []
    },
    {
      "cell_type": "code",
      "source": [
        "from pyspark.sql import functions as F\n",
        "\n",
        "df = df.withColumn(\"isBestSeller\", F.when(F.col(\"isBestSeller\") == \"True\", 1).otherwise(0))"
      ],
      "metadata": {
        "id": "qZl-eF4Hgriy"
      },
      "execution_count": null,
      "outputs": []
    },
    {
      "cell_type": "code",
      "source": [
        "df.dtypes"
      ],
      "metadata": {
        "colab": {
          "base_uri": "https://localhost:8080/"
        },
        "id": "FANsja0mWP3k",
        "outputId": "23922563-2c1f-430a-ab72-001717763d3c"
      },
      "execution_count": null,
      "outputs": [
        {
          "output_type": "execute_result",
          "data": {
            "text/plain": [
              "[('_c0', 'string'),\n",
              " ('asin', 'string'),\n",
              " ('title', 'string'),\n",
              " ('imgUrl', 'string'),\n",
              " ('productURL', 'string'),\n",
              " ('stars', 'float'),\n",
              " ('reviews', 'int'),\n",
              " ('price', 'float'),\n",
              " ('isBestSeller', 'int'),\n",
              " ('boughtInLastMonth', 'float'),\n",
              " ('categoryName', 'string'),\n",
              " ('isBestSellerr', 'int')]"
            ]
          },
          "metadata": {},
          "execution_count": 33
        }
      ]
    },
    {
      "cell_type": "code",
      "source": [
        "df.show()"
      ],
      "metadata": {
        "colab": {
          "base_uri": "https://localhost:8080/"
        },
        "id": "Nut_97lPWWe3",
        "outputId": "3e8f0de5-edfd-49c0-b0e3-b9cc2e8ff129"
      },
      "execution_count": null,
      "outputs": [
        {
          "output_type": "stream",
          "name": "stdout",
          "text": [
            "+---+----------+--------------------+--------------------+--------------------+-----+-------+-----+------------+-----------------+--------------+\n",
            "|_c0|      asin|               title|              imgUrl|          productURL|stars|reviews|price|isBestSeller|boughtInLastMonth|  categoryName|\n",
            "+---+----------+--------------------+--------------------+--------------------+-----+-------+-----+------------+-----------------+--------------+\n",
            "|  0|B09B96TG33|Echo Dot (5th gen...|https://m.media-a...|https://www.amazo...|  4.7|  15308|21.99|           0|              0.0|Hi-Fi Speakers|\n",
            "|  1|B01HTH3C8S|Anker Soundcore m...|https://m.media-a...|https://www.amazo...|  4.7|  98099|23.99|           1|              0.0|Hi-Fi Speakers|\n",
            "|  2|B09B8YWXDF|Echo Dot (5th gen...|https://m.media-a...|https://www.amazo...|  4.7|  15308|21.99|           0|              0.0|Hi-Fi Speakers|\n",
            "|  3|B09B8T5VGV|Echo Dot with clo...|https://m.media-a...|https://www.amazo...|  4.7|   7205|31.99|           0|              0.0|Hi-Fi Speakers|\n",
            "|  4|B09WX6QD65|Introducing Echo ...|https://m.media-a...|https://www.amazo...|  4.6|   1881|17.99|           0|              0.0|Hi-Fi Speakers|\n",
            "|  5|B09B97WSLF|Echo Dot with clo...|https://m.media-a...|https://www.amazo...|  4.7|   7205|31.99|           0|              0.0|Hi-Fi Speakers|\n",
            "|  6|B09B9615X2|Echo Dot (5th gen...|https://m.media-a...|https://www.amazo...|  4.7|  15308|19.66|           0|              0.0|Hi-Fi Speakers|\n",
            "|  7|B01MTB55WH|Anker Soundcore 2...|https://m.media-a...|https://www.amazo...|  4.7| 103673|39.99|           0|              0.0|Hi-Fi Speakers|\n",
            "|  8|B016MO90GW|Bluetooth Speaker...|https://m.media-a...|https://www.amazo...|  4.7|  29909|29.99|           0|              0.0|Hi-Fi Speakers|\n",
            "|  9|B09ZQF5GZW|RIENOK Bluetooth ...|https://m.media-a...|https://www.amazo...|  0.0|  16014|29.99|           0|              0.0|Hi-Fi Speakers|\n",
            "| 10|B08VDNCZT9|JBL Charge 5 - Po...|https://m.media-a...|https://www.amazo...|  4.8|  11920|139.0|           0|              0.0|Hi-Fi Speakers|\n",
            "| 11|B09ZX9NP2W|Introducing Echo ...|https://m.media-a...|https://www.amazo...|  4.6|   1881|17.99|           0|              0.0|Hi-Fi Speakers|\n",
            "| 12|B09ZXDMNCY|Introducing Echo ...|https://m.media-a...|https://www.amazo...|  4.6|   1881|17.99|           0|              0.0|Hi-Fi Speakers|\n",
            "| 13|B09B2R18PG|All-new Echo Show...|https://m.media-a...|https://www.amazo...|  4.5|    726|49.99|           0|              0.0|Hi-Fi Speakers|\n",
            "| 14|B084TNK1NL|Echo Show 8 | 2nd...|https://m.media-a...|https://www.amazo...|  4.7|  18333|64.99|           0|              0.0|Hi-Fi Speakers|\n",
            "| 15|B09B97BPSW|Echo Dot Kids (5t...|https://m.media-a...|https://www.amazo...|  4.6|   1017|26.99|           1|              0.0|Hi-Fi Speakers|\n",
            "| 16|B08YF1T4SW|Sony SRS-XB13 - C...|https://m.media-a...|https://www.amazo...|  4.6|   6367| 39.0|           0|              0.0|Hi-Fi Speakers|\n",
            "| 17|B09B8XRZYB|Echo Dot Kids (5t...|https://m.media-a...|https://www.amazo...|  4.6|   1017|26.99|           1|              0.0|Hi-Fi Speakers|\n",
            "| 18|B09B2SS2G1|All-new Echo Show...|https://m.media-a...|https://www.amazo...|  4.5|    726|19.66|           0|              0.0|Hi-Fi Speakers|\n",
            "| 19|B07NQCKJSH|Echo Studio | Our...|https://m.media-a...|https://www.amazo...|  4.5|  14222|19.66|           0|              0.0|Hi-Fi Speakers|\n",
            "+---+----------+--------------------+--------------------+--------------------+-----+-------+-----+------------+-----------------+--------------+\n",
            "only showing top 20 rows\n",
            "\n"
          ]
        }
      ]
    },
    {
      "cell_type": "markdown",
      "source": [
        "Model Building"
      ],
      "metadata": {
        "id": "E3AYkMaGjR45"
      }
    },
    {
      "cell_type": "code",
      "source": [
        "null_counts = df.select([spark_sum(col(c).isNull().cast('int')).alias(c) for c in df.columns])\n",
        "\n",
        "null_counts.show()"
      ],
      "metadata": {
        "colab": {
          "base_uri": "https://localhost:8080/"
        },
        "id": "EAnlw_NajtB_",
        "outputId": "f41b20c9-7172-43a9-afc3-3177c70fcb09"
      },
      "execution_count": null,
      "outputs": [
        {
          "output_type": "stream",
          "name": "stdout",
          "text": [
            "+---+----+-----+------+----------+-----+-------+-----+------------+-----------------+------------+\n",
            "|_c0|asin|title|imgUrl|productURL|stars|reviews|price|isBestSeller|boughtInLastMonth|categoryName|\n",
            "+---+----+-----+------+----------+-----+-------+-----+------------+-----------------+------------+\n",
            "|  0|   0|    0|    12|        20|    0|      0|    0|           0|                0|           0|\n",
            "+---+----+-----+------+----------+-----+-------+-----+------------+-----------------+------------+\n",
            "\n"
          ]
        }
      ]
    },
    {
      "cell_type": "code",
      "source": [
        "from pyspark.sql import SparkSession\n",
        "from pyspark.ml.feature import VectorAssembler\n",
        "from pyspark.ml.classification import RandomForestClassifier\n",
        "from pyspark.ml.evaluation import BinaryClassificationEvaluator\n",
        "\n",
        "# Create a Spark session\n",
        "spark = SparkSession.builder.appName(\"RandomForestClassifier\").getOrCreate()\n",
        "\n",
        "\n",
        "# Assemble features into a single vector column\n",
        "feature_columns = [\"boughtInLastMonth\", \"reviews\", \"stars\", \"price\"]\n",
        "assembler = VectorAssembler(inputCols=feature_columns, outputCol=\"features\")\n",
        "df_assembled = assembler.transform(df)\n",
        "\n",
        "# Split data into training and test sets\n",
        "train_data, test_data = df_assembled.randomSplit([0.6, 0.4], seed=42)\n",
        "\n",
        "# Create and train the Random Forest model\n",
        "rf_model = RandomForestClassifier(labelCol=\"isBestSeller\", featuresCol=\"features\", numTrees=100, seed=42)\n",
        "rf_fit = rf_model.fit(train_data)\n",
        "\n",
        "# Make predictions on the test set\n",
        "predictions = rf_fit.transform(test_data)\n",
        "\n",
        "# Evaluate the model\n",
        "evaluator = BinaryClassificationEvaluator(labelCol=\"isBestSeller\")\n",
        "roc_auc = evaluator.evaluate(predictions)\n",
        "print(f\"Test ROC-AUC score: {roc_auc}\")\n"
      ],
      "metadata": {
        "colab": {
          "base_uri": "https://localhost:8080/"
        },
        "id": "APEYoi3XfMDl",
        "outputId": "e768a30d-64cb-41d5-dca9-31a92ef30db6"
      },
      "execution_count": null,
      "outputs": [
        {
          "output_type": "stream",
          "name": "stdout",
          "text": [
            "Test ROC-AUC score: 0.9205699411120508\n"
          ]
        }
      ]
    },
    {
      "cell_type": "code",
      "source": [
        "from pyspark.ml.feature import VectorAssembler\n",
        "from pyspark.ml.classification import LogisticRegression, GBTClassifier\n",
        "from pyspark.ml.evaluation import BinaryClassificationEvaluator, MulticlassClassificationEvaluator\n",
        "from pyspark.sql.functions import col\n",
        "\n",
        "# Define features and target column names\n",
        "features = [\"boughtInLastMonth\", \"reviews\", \"stars\", \"price\"]  # Replace with actual feature column names\n",
        "target = \"isBestSeller\"  # Replace with actual target column name\n",
        "\n",
        "# Vectorize features\n",
        "assembler = VectorAssembler(inputCols=features, outputCol=\"features\")\n",
        "data = assembler.transform(df).select(\"features\", col(target).alias(\"label\"))\n",
        "\n",
        "# Split the data into training and testing sets\n",
        "train_data, test_data = data.randomSplit([0.6, 0.4], seed=42)\n",
        "\n",
        "# Logistic Regression model\n",
        "model_lr = LogisticRegression(maxIter=1000)\n",
        "model_lr = model_lr.fit(train_data)\n",
        "\n",
        "# Make predictions on the test set for Logistic Regression\n",
        "predictions_lr = model_lr.transform(test_data)\n",
        "\n",
        "# Evaluation of Logistic Regression model\n",
        "evaluator_lr = BinaryClassificationEvaluator(labelCol=\"label\")\n",
        "roc_auc_lr = evaluator_lr.evaluate(predictions_lr, {evaluator_lr.metricName: \"areaUnderROC\"})\n",
        "\n",
        "print(\"Logistic Regression Model:\")\n",
        "print(f\"ROC-AUC score: {roc_auc_lr}\")"
      ],
      "metadata": {
        "colab": {
          "base_uri": "https://localhost:8080/"
        },
        "id": "AoDX8HmUitwm",
        "outputId": "dee81fb4-0021-4b72-894b-c9dd1dda02d1"
      },
      "execution_count": null,
      "outputs": [
        {
          "output_type": "stream",
          "name": "stdout",
          "text": [
            "Logistic Regression Model:\n",
            "ROC-AUC score: 0.867911478042801\n"
          ]
        }
      ]
    }
  ]
}